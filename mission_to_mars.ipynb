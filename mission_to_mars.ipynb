{
 "cells": [
  {
   "cell_type": "markdown",
   "metadata": {},
   "source": [
    "# Mission to Mars"
   ]
  },
  {
   "cell_type": "code",
   "execution_count": 110,
   "metadata": {},
   "outputs": [],
   "source": [
    "import os\n",
    "from bs4 import BeautifulSoup\n",
    "from selenium import webdriver\n",
    "from selenium.webdriver.common.keys import Keys\n",
    "from selenium.webdriver.common.by import By\n",
    "import time\n",
    "import sys\n",
    "import numpy as np\n",
    "import pandas as pd\n",
    "import regex as re"
   ]
  },
  {
   "cell_type": "code",
   "execution_count": 111,
   "metadata": {},
   "outputs": [],
   "source": [
    "chromedriver = \"chromedriver.exe\" # path to the chromedriver executable\n",
    "chromedriver = os.path.expanduser(chromedriver)\n",
    "#print('chromedriver path: {}'.format(chromedriver))\n",
    "sys.path.append(chromedriver)\n",
    "driver = webdriver.Chrome(chromedriver)"
   ]
  },
  {
   "cell_type": "markdown",
   "metadata": {},
   "source": [
    "## NASA Mars News"
   ]
  },
  {
   "cell_type": "code",
   "execution_count": 112,
   "metadata": {},
   "outputs": [],
   "source": [
    "# Create your URL variable and assign the page range\n",
    "# The page parsmeter in the URL is s=120 and so on, s=240... \n",
    "news_url = \"https://mars.nasa.gov/news/?page=\"\n",
    "driver.get(news_url)\n",
    "time.sleep(1)"
   ]
  },
  {
   "cell_type": "code",
   "execution_count": 113,
   "metadata": {},
   "outputs": [
    {
     "name": "stdout",
     "output_type": "stream",
     "text": [
      "News Title: After a Reset, Curiosity Is Operating Normally\n",
      "NASA's Mars rover Curiosity is in good health but takes a short break while engineers diagnose why it reset its computer. \n"
     ]
    }
   ],
   "source": [
    "# Scrape the website and return the first News Title and Paragraph Text\n",
    "soup = BeautifulSoup(driver.page_source, 'html.parser')\n",
    "news_title = soup.find('div', class_='content_title').text\n",
    "news_p = soup.find('div', class_='rollover_description_inner').text\n",
    "print(\"News Title:\", news_title)\n",
    "print(news_p)"
   ]
  },
  {
   "cell_type": "markdown",
   "metadata": {},
   "source": [
    "## JPL Mars Space Images - Featured Image"
   ]
  },
  {
   "cell_type": "code",
   "execution_count": 114,
   "metadata": {},
   "outputs": [],
   "source": [
    "# Scrape featured image from JPL website\n",
    "jpl_url = 'https://www.jpl.nasa.gov/spaceimages/?search=&category=Mars'\n",
    "driver.get(jpl_url)\n",
    "time.sleep(1)"
   ]
  },
  {
   "cell_type": "code",
   "execution_count": 115,
   "metadata": {},
   "outputs": [
    {
     "name": "stdout",
     "output_type": "stream",
     "text": [
      "https://www.jpl.nasa.gov/spaceimages/images/mediumsize/PIA19964_ip.jpg\n"
     ]
    }
   ],
   "source": [
    "# Scrape the featured image \n",
    "soup = BeautifulSoup(driver.page_source, 'html.parser')\n",
    "img = soup.find('a', class_='fancybox')['data-fancybox-href']\n",
    "feat_img_url = 'https://www.jpl.nasa.gov'+ img\n",
    "print(feat_img_url)"
   ]
  },
  {
   "cell_type": "markdown",
   "metadata": {},
   "source": [
    "## Mars Weather"
   ]
  },
  {
   "cell_type": "code",
   "execution_count": 87,
   "metadata": {},
   "outputs": [],
   "source": [
    "# Scrape twitter weather report \n",
    "weather_url = 'https://twitter.com/marswxreport?lang=en'\n",
    "driver.get(weather_url)\n",
    "time.sleep(1)"
   ]
  },
  {
   "cell_type": "code",
   "execution_count": 88,
   "metadata": {},
   "outputs": [
    {
     "name": "stdout",
     "output_type": "stream",
     "text": [
      "InSight sol 84 (2019-02-20) low -95.1ºC (-139.2ºF) high -13.2ºC (8.3ºF)\n",
      "winds from the SW at 4.1 m/s (9.3 mph) gusting to 10.8 m/s (24.2 mph)\n"
     ]
    }
   ],
   "source": [
    "# Initialize BeautifulSoup and find the weather\n",
    "soup = BeautifulSoup(driver.page_source, 'html.parser')\n",
    "tweets = soup.find('p', class_='TweetTextSize TweetTextSize--normal js-tweet-text tweet-text').contents\n",
    "tweet_weather = tweets[0]\n",
    "print(tweet_weather)\n",
    "\n",
    "mars_weather = 'InSight sol 84 (2019-02-20) low -95.1ºC (-139.2ºF) high -13.2ºC (8.3ºF) winds from the SW at 4.1 m/s (9.3 mph) gusting to 10.8 m/s (24.2 mph)'"
   ]
  },
  {
   "cell_type": "markdown",
   "metadata": {},
   "source": [
    "## Mars Facts"
   ]
  },
  {
   "cell_type": "code",
   "execution_count": 41,
   "metadata": {},
   "outputs": [],
   "source": [
    "facts_url = 'https://space-facts.com/mars/'"
   ]
  },
  {
   "cell_type": "code",
   "execution_count": 44,
   "metadata": {},
   "outputs": [
    {
     "data": {
      "text/html": [
       "<div>\n",
       "<style scoped>\n",
       "    .dataframe tbody tr th:only-of-type {\n",
       "        vertical-align: middle;\n",
       "    }\n",
       "\n",
       "    .dataframe tbody tr th {\n",
       "        vertical-align: top;\n",
       "    }\n",
       "\n",
       "    .dataframe thead th {\n",
       "        text-align: right;\n",
       "    }\n",
       "</style>\n",
       "<table border=\"1\" class=\"dataframe\">\n",
       "  <thead>\n",
       "    <tr style=\"text-align: right;\">\n",
       "      <th></th>\n",
       "      <th>Value</th>\n",
       "    </tr>\n",
       "    <tr>\n",
       "      <th>Description</th>\n",
       "      <th></th>\n",
       "    </tr>\n",
       "  </thead>\n",
       "  <tbody>\n",
       "    <tr>\n",
       "      <th>Equatorial Diameter:</th>\n",
       "      <td>6,792 km</td>\n",
       "    </tr>\n",
       "    <tr>\n",
       "      <th>Polar Diameter:</th>\n",
       "      <td>6,752 km</td>\n",
       "    </tr>\n",
       "    <tr>\n",
       "      <th>Mass:</th>\n",
       "      <td>6.42 x 10^23 kg (10.7% Earth)</td>\n",
       "    </tr>\n",
       "    <tr>\n",
       "      <th>Moons:</th>\n",
       "      <td>2 (Phobos &amp; Deimos)</td>\n",
       "    </tr>\n",
       "    <tr>\n",
       "      <th>Orbit Distance:</th>\n",
       "      <td>227,943,824 km (1.52 AU)</td>\n",
       "    </tr>\n",
       "    <tr>\n",
       "      <th>Orbit Period:</th>\n",
       "      <td>687 days (1.9 years)</td>\n",
       "    </tr>\n",
       "    <tr>\n",
       "      <th>Surface Temperature:</th>\n",
       "      <td>-153 to 20 °C</td>\n",
       "    </tr>\n",
       "    <tr>\n",
       "      <th>First Record:</th>\n",
       "      <td>2nd millennium BC</td>\n",
       "    </tr>\n",
       "    <tr>\n",
       "      <th>Recorded By:</th>\n",
       "      <td>Egyptian astronomers</td>\n",
       "    </tr>\n",
       "  </tbody>\n",
       "</table>\n",
       "</div>"
      ],
      "text/plain": [
       "                                              Value\n",
       "Description                                        \n",
       "Equatorial Diameter:                       6,792 km\n",
       "Polar Diameter:                            6,752 km\n",
       "Mass:                 6.42 x 10^23 kg (10.7% Earth)\n",
       "Moons:                          2 (Phobos & Deimos)\n",
       "Orbit Distance:            227,943,824 km (1.52 AU)\n",
       "Orbit Period:                  687 days (1.9 years)\n",
       "Surface Temperature:                  -153 to 20 °C\n",
       "First Record:                     2nd millennium BC\n",
       "Recorded By:                   Egyptian astronomers"
      ]
     },
     "execution_count": 44,
     "metadata": {},
     "output_type": "execute_result"
    }
   ],
   "source": [
    "# Read the table\n",
    "facts_tables = pd.read_html(facts_url)\n",
    "\n",
    "# Convert table to dataframe\n",
    "facts_df = facts_tables[0]\n",
    "facts_df.columns = ['Description', 'Value']\n",
    "facts_df = facts_df.set_index('Description')\n",
    "print(facts_df)\n",
    "\n",
    "# Convert dataframe to HTML\n",
    "facts_html = facts_df.to_html()"
   ]
  },
  {
   "cell_type": "markdown",
   "metadata": {},
   "source": [
    "## Mars Hemispheres"
   ]
  },
  {
   "cell_type": "code",
   "execution_count": 97,
   "metadata": {},
   "outputs": [
    {
     "name": "stdout",
     "output_type": "stream",
     "text": [
      "['Valles Marineris Hemisphere Enhanced', 'Syrtis Major Hemisphere Enhanced', 'Schiaparelli Hemisphere Enhanced', 'Cerberus Hemisphere Enhanced']\n"
     ]
    }
   ],
   "source": [
    "# Astrology site homepage\n",
    "hemisphere_url = 'https://astrogeology.usgs.gov/maps/mars-viking-hemisphere-point-perspectives'\n",
    "\n",
    "# Get all the headings \n",
    "response = requests.get(hemisphere_url)\n",
    "soup = BeautifulSoup(response.text, \"html.parser\")\n",
    "\n",
    "heading = soup.find_all('h3') \n",
    "heading_data = heading\n",
    "#print(heading_data)\n",
    "\n",
    "# Clean the headings up and only extract the text \n",
    "# Make a dictionary in order to pair the image URL for final results\n",
    "head = [x.text.split('>')[-1].strip() for x in heading_data]\n",
    "\n",
    "titles = []\n",
    "\n",
    "for x in head:\n",
    "    title = x\n",
    "    titles.append(title)\n",
    "#print(titles)\n",
    "\n",
    "# Extract only the titles that have \"Enhanced\" \n",
    "enhanced_title = [s for s in titles if \"Enhanced\" in s]\n",
    "print(enhanced_title)"
   ]
  },
  {
   "cell_type": "code",
   "execution_count": 98,
   "metadata": {},
   "outputs": [
    {
     "name": "stdout",
     "output_type": "stream",
     "text": [
      "['https://astrogeology.usgs.gov/search/map/Mars/Viking/valles_marineris_enhanced', 'https://astrogeology.usgs.gov/search/map/Mars/Viking/syrtis_major_enhanced', 'https://astrogeology.usgs.gov/search/map/Mars/Viking/schiaparelli_enhanced', 'https://astrogeology.usgs.gov/search/map/Mars/Viking/cerberus_enhanced']\n"
     ]
    }
   ],
   "source": [
    "# Get the links for each image\n",
    "# Need to first extract each hemispheres link and then go through each link to grab the img_url\n",
    "hemis = soup.find_all('a', {'class': 'item', 'href': True})\n",
    "hemi_img_links = []\n",
    "\n",
    "for hemi in hemis:\n",
    "    link = (hemi['href'])\n",
    "    hemi_link = 'https://astrogeology.usgs.gov'+ link\n",
    "    hemi_img_links.append(hemi_link)\n",
    "\n",
    "# Extract only the links that have \"Enhanced\"\n",
    "enhanced_link = [s for s in hemi_img_links if \"_enhanced\" in s]\n",
    "print(enhanced_link)"
   ]
  },
  {
   "cell_type": "code",
   "execution_count": 99,
   "metadata": {},
   "outputs": [
    {
     "name": "stdout",
     "output_type": "stream",
     "text": [
      "['http://astropedia.astrogeology.usgs.gov/download/Mars/Viking/valles_marineris_enhanced.tif/full.jpg', 'http://astropedia.astrogeology.usgs.gov/download/Mars/Viking/syrtis_major_enhanced.tif/full.jpg', 'http://astropedia.astrogeology.usgs.gov/download/Mars/Viking/schiaparelli_enhanced.tif/full.jpg', 'http://astropedia.astrogeology.usgs.gov/download/Mars/Viking/cerberus_enhanced.tif/full.jpg']\n"
     ]
    }
   ],
   "source": [
    "# Get the links for each image\n",
    "list_links = []\n",
    "\n",
    "for hemi in enhanced_link:\n",
    "    response = requests.get(hemi)\n",
    "    soup = BeautifulSoup(response.text, \"html.parser\")\n",
    "    lists = soup.find_all('ul')[6]\n",
    "    for litag in lists.find_all('li'):\n",
    "        for link in litag.find_all('a', href=True):\n",
    "            links = link['href']\n",
    "            list_links.append(links)\n",
    "            \n",
    "# Extract only the links that have \".jpg\"\n",
    "jpg_links = [s for s in list_links if \".jpg\" in s]\n",
    "print(jpg_links)"
   ]
  },
  {
   "cell_type": "code",
   "execution_count": 108,
   "metadata": {},
   "outputs": [
    {
     "name": "stdout",
     "output_type": "stream",
     "text": [
      "[{'title': 'Valles Marineris Hemisphere Enhanced', 'img_url': 'http://astropedia.astrogeology.usgs.gov/download/Mars/Viking/valles_marineris_enhanced.tif/full.jpg'}, {'title': 'Syrtis Major Hemisphere Enhanced', 'img_url': 'http://astropedia.astrogeology.usgs.gov/download/Mars/Viking/syrtis_major_enhanced.tif/full.jpg'}, {'title': 'Schiaparelli Hemisphere Enhanced', 'img_url': 'http://astropedia.astrogeology.usgs.gov/download/Mars/Viking/schiaparelli_enhanced.tif/full.jpg'}, {'title': 'Cerberus Hemisphere Enhanced', 'img_url': 'http://astropedia.astrogeology.usgs.gov/download/Mars/Viking/cerberus_enhanced.tif/full.jpg'}]\n"
     ]
    }
   ],
   "source": [
    "# Create a dictionary for the title and links that match \n",
    "hemisphere_image_urls = [{'title': enhanced_title[0], 'img_url': jpg_links[0]}, \n",
    "                        {'title': enhanced_title[1], 'img_url': jpg_links[1]},\n",
    "                        {'title': enhanced_title[2], 'img_url': jpg_links[2]},\n",
    "                        {'title': enhanced_title[3], 'img_url': jpg_links[3]}]\n",
    "print(hemisphere_image_urls)"
   ]
  }
 ],
 "metadata": {
  "kernelspec": {
   "display_name": "Python 3",
   "language": "python",
   "name": "python3"
  },
  "language_info": {
   "codemirror_mode": {
    "name": "ipython",
    "version": 3
   },
   "file_extension": ".py",
   "mimetype": "text/x-python",
   "name": "python",
   "nbconvert_exporter": "python",
   "pygments_lexer": "ipython3",
   "version": "3.7.1"
  }
 },
 "nbformat": 4,
 "nbformat_minor": 2
}
